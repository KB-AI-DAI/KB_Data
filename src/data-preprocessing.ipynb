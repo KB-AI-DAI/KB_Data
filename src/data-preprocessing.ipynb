{
 "cells": [
  {
   "cell_type": "code",
   "execution_count": 1,
   "metadata": {
    "executionInfo": {
     "elapsed": 1048,
     "status": "ok",
     "timestamp": 1754312933388,
     "user": {
      "displayName": "엄지현",
      "userId": "10034619019328802672"
     },
     "user_tz": -540
    },
    "id": "By5rip1stCzo"
   },
   "outputs": [],
   "source": [
    "import requests\n",
    "from bs4 import BeautifulSoup\n",
    "import pandas as pd\n",
    "import numpy as np\n",
    "from tqdm import tqdm"
   ]
  },
  {
   "cell_type": "code",
   "execution_count": 2,
   "metadata": {
    "executionInfo": {
     "elapsed": 29,
     "status": "ok",
     "timestamp": 1754312933445,
     "user": {
      "displayName": "엄지현",
      "userId": "10034619019328802672"
     },
     "user_tz": -540
    },
    "id": "pSkExZhSFFWr"
   },
   "outputs": [],
   "source": [
    "stock_code = pd.read_csv('./stock_codes.csv')"
   ]
  },
  {
   "cell_type": "code",
   "execution_count": 3,
   "metadata": {
    "executionInfo": {
     "elapsed": 46,
     "status": "ok",
     "timestamp": 1754312935656,
     "user": {
      "displayName": "엄지현",
      "userId": "10034619019328802672"
     },
     "user_tz": -540
    },
    "id": "xS_Nv193Nr-Q"
   },
   "outputs": [],
   "source": [
    "def url_to_df(url):\n",
    "    try:\n",
    "        response = requests.get(url)\n",
    "        response.raise_for_status()  # 문제가 발생하면 예외 발생\n",
    "        html = response.text\n",
    "    except requests.exceptions.RequestException as e:\n",
    "        print(f\"웹 페이지 요청 오류: {e}\")\n",
    "        exit()\n",
    "\n",
    "    soup = BeautifulSoup(html, 'html.parser')\n",
    "\n",
    "    table = soup.find('table', 'us_table_ty1 h_fix zigbg_no')\n",
    "\n",
    "    # 테이블 데이터 추출\n",
    "    if table:\n",
    "        rows = table.find_all('tr')\n",
    "        data = []\n",
    "        for row in rows:\n",
    "            cols = row.find_all(['td', 'th'])\n",
    "            # 각 행의 데이터 추출\n",
    "            row_data = [tag.get('title').strip() if tag.get('title') else tag.text.strip() for tag in cols]\n",
    "            data.append(row_data)\n",
    "\n",
    "    else:\n",
    "        return None\n",
    "\n",
    "    # \"계산에 참여한 계정 펼치기\" 없애기\n",
    "    for i in range(len(data)):\n",
    "        if \"펼치기\" in data[i][0]:\n",
    "            data[i][0] = data[i][0][:-14]\n",
    "\n",
    "\n",
    "    df = pd.DataFrame(data)\n",
    "    df_col = pd.DataFrame(data, columns = df.iloc[0]).reset_index(drop=True)\n",
    "\n",
    "    df_col = df_col.drop(index=0, axis=0).reset_index(drop=True)\n",
    "    df_col = df_col.drop(columns=['전년동기(%)'], axis=1).reset_index(drop=True)\n",
    "\n",
    "    df_col = df_col.replace('',0.0)\n",
    "\n",
    "    return(df_col)"
   ]
  },
  {
   "cell_type": "code",
   "execution_count": 11,
   "metadata": {
    "colab": {
     "base_uri": "https://localhost:8080/"
    },
    "id": "BQa7OKl5tNNH",
    "outputId": "de32575e-430e-439e-fc63-74ed882447a8"
   },
   "outputs": [
    {
     "name": "stderr",
     "output_type": "stream",
     "text": [
      "100%|██████████| 2080/2080 [22:28<00:00,  1.54it/s]\n"
     ]
    }
   ],
   "source": [
    "for i in tqdm(range(len(stock_code))):\n",
    "    url = \"https://comp.fnguide.com/SVO2/ASP/SVD_Finance.asp?pGB=1&gicode=A%s&cID=&MenuYn=Y&ReportGB=&NewMenuID=103&stkGb=701\"%(stock_code['단축코드'][i])\n",
    "\n",
    "    return_df = url_to_df(url)\n",
    "\n",
    "    # 비어있는 표가 있으면 예외 처리\n",
    "    if return_df is None:\n",
    "        continue\n",
    "\n",
    "    return_df.to_csv(f\"/workspace/ej/KB_Data/stocks_training_data/{stock_code['단축코드'][i]}_{stock_code['한글 종목명'][i]}.csv\", index=False, encoding=\"utf-8-sig\")\n"
   ]
  },
  {
   "cell_type": "code",
   "execution_count": null,
   "metadata": {},
   "outputs": [],
   "source": []
  }
 ],
 "metadata": {
  "colab": {
   "authorship_tag": "ABX9TyOBmVGAuc+jRLRRWlHejc2V",
   "provenance": []
  },
  "kernelspec": {
   "display_name": "Python 3 (ipykernel)",
   "language": "python",
   "name": "python3"
  },
  "language_info": {
   "codemirror_mode": {
    "name": "ipython",
    "version": 3
   },
   "file_extension": ".py",
   "mimetype": "text/x-python",
   "name": "python",
   "nbconvert_exporter": "python",
   "pygments_lexer": "ipython3",
   "version": "3.10.8"
  }
 },
 "nbformat": 4,
 "nbformat_minor": 4
}
