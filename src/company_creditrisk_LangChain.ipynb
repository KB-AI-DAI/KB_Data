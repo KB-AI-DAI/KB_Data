{
 "cells": [
  {
   "cell_type": "code",
   "execution_count": 1,
   "id": "f8dcd232-c20c-4cb6-92b1-14de7ab52615",
   "metadata": {},
   "outputs": [],
   "source": [
    "import os\n",
    "from dotenv import load_dotenv\n",
    "import pandas as pd\n",
    "from tqdm import tqdm\n",
    "import torch\n",
    "from langchain.schema import Document\n",
    "from langchain_huggingface import HuggingFaceEmbeddings\n",
    "import chromadb\n",
    "from chromadb.config import Settings\n",
    "from langchain_chroma import Chroma"
   ]
  },
  {
   "cell_type": "code",
   "execution_count": 2,
   "id": "327991e4-05cb-442a-81c2-516c74dc736a",
   "metadata": {},
   "outputs": [],
   "source": [
    "from langchain.chains import RetrievalQAWithSourcesChain\n",
    "from langchain_huggingface import HuggingFacePipeline \n",
    "from transformers import AutoTokenizer, AutoModelForCausalLM, pipeline\n",
    "from langchain.prompts import PromptTemplate\n",
    "from langchain.chains.qa_with_sources import load_qa_with_sources_chain\n",
    "from langchain.chains.combine_documents import create_stuff_documents_chain"
   ]
  },
  {
   "cell_type": "code",
   "execution_count": 3,
   "id": "297a0834-f0b3-4710-aa19-3e0959db3907",
   "metadata": {},
   "outputs": [
    {
     "data": {
      "text/plain": [
       "True"
      ]
     },
     "execution_count": 3,
     "metadata": {},
     "output_type": "execute_result"
    }
   ],
   "source": [
    "load_dotenv()"
   ]
  },
  {
   "cell_type": "code",
   "execution_count": 4,
   "id": "33ab872b-c061-432b-8783-a4fdeb2820ee",
   "metadata": {},
   "outputs": [],
   "source": [
    "# Chroma 연결\n",
    "\n",
    "CHROMA_HOST = os.getenv(\"CHROMA_HOST\")  # 도커 네트워크에서 컨테이너명\n",
    "CHROMA_PORT = int(os.getenv(\"CHROMA_PORT\"))\n",
    "\n",
    "client = chromadb.HttpClient(\n",
    "    host=CHROMA_HOST,\n",
    "    port=CHROMA_PORT,\n",
    "    settings=Settings()\n",
    ")"
   ]
  },
  {
   "cell_type": "code",
   "execution_count": 5,
   "id": "42551e80-1018-4de4-8ab2-10022dd1e5fe",
   "metadata": {
    "scrolled": true
   },
   "outputs": [],
   "source": [
    "# 임베딩 모델 지정\n",
    "\n",
    "emb_model_name = \"BAAI/bge-m3\"\n",
    "model_kwargs = {'device': 'cuda'} \n",
    "\n",
    "embedding = HuggingFaceEmbeddings(\n",
    "    model_name=emb_model_name, \n",
    "    model_kwargs=model_kwargs, \n",
    "    encode_kwargs={'normalize_embeddings': True}, #model_kwargs,\n",
    "    show_progress=True)"
   ]
  },
  {
   "cell_type": "code",
   "execution_count": 6,
   "id": "aad21271-2092-482e-838e-b303f1594547",
   "metadata": {},
   "outputs": [
    {
     "name": "stdout",
     "output_type": "stream",
     "text": [
      "[Collection(name=financials), Collection(name=topics), Collection(name=news_articles)]\n"
     ]
    }
   ],
   "source": [
    "print(client.list_collections())"
   ]
  },
  {
   "cell_type": "code",
   "execution_count": 8,
   "id": "d49cb1f3-583a-4df3-a20a-3d2a8b4d11ee",
   "metadata": {
    "scrolled": true
   },
   "outputs": [
    {
     "data": {
      "application/vnd.jupyter.widget-view+json": {
       "model_id": "a2b461be10134deb884be41f902d1194",
       "version_major": 2,
       "version_minor": 0
      },
      "text/plain": [
       "tokenizer_config.json:   0%|          | 0.00/1.16M [00:00<?, ?B/s]"
      ]
     },
     "metadata": {},
     "output_type": "display_data"
    },
    {
     "data": {
      "application/vnd.jupyter.widget-view+json": {
       "model_id": "0b3883a184064b328f6d96e82ffab353",
       "version_major": 2,
       "version_minor": 0
      },
      "text/plain": [
       "tokenizer.model:   0%|          | 0.00/4.69M [00:00<?, ?B/s]"
      ]
     },
     "metadata": {},
     "output_type": "display_data"
    },
    {
     "data": {
      "application/vnd.jupyter.widget-view+json": {
       "model_id": "c35408d87e56402dae47a15dd3bc51bc",
       "version_major": 2,
       "version_minor": 0
      },
      "text/plain": [
       "tokenizer.json:   0%|          | 0.00/33.4M [00:00<?, ?B/s]"
      ]
     },
     "metadata": {},
     "output_type": "display_data"
    },
    {
     "data": {
      "application/vnd.jupyter.widget-view+json": {
       "model_id": "907ff50f949a4a26b3560b8ca1a16b64",
       "version_major": 2,
       "version_minor": 0
      },
      "text/plain": [
       "added_tokens.json:   0%|          | 0.00/35.0 [00:00<?, ?B/s]"
      ]
     },
     "metadata": {},
     "output_type": "display_data"
    },
    {
     "data": {
      "application/vnd.jupyter.widget-view+json": {
       "model_id": "52723c30414c41c5882c8953123496f3",
       "version_major": 2,
       "version_minor": 0
      },
      "text/plain": [
       "special_tokens_map.json:   0%|          | 0.00/662 [00:00<?, ?B/s]"
      ]
     },
     "metadata": {},
     "output_type": "display_data"
    },
    {
     "data": {
      "application/vnd.jupyter.widget-view+json": {
       "model_id": "0a60cda8ed0740ecb534f589a85c98e2",
       "version_major": 2,
       "version_minor": 0
      },
      "text/plain": [
       "config.json:   0%|          | 0.00/855 [00:00<?, ?B/s]"
      ]
     },
     "metadata": {},
     "output_type": "display_data"
    },
    {
     "data": {
      "application/vnd.jupyter.widget-view+json": {
       "model_id": "9da9ceec16464f6eb9b40c8b4cbe8ea2",
       "version_major": 2,
       "version_minor": 0
      },
      "text/plain": [
       "model.safetensors.index.json:   0%|          | 0.00/90.6k [00:00<?, ?B/s]"
      ]
     },
     "metadata": {},
     "output_type": "display_data"
    },
    {
     "data": {
      "application/vnd.jupyter.widget-view+json": {
       "model_id": "714477bec6794b70b69329f1e223efa5",
       "version_major": 2,
       "version_minor": 0
      },
      "text/plain": [
       "Fetching 2 files:   0%|          | 0/2 [00:00<?, ?it/s]"
      ]
     },
     "metadata": {},
     "output_type": "display_data"
    },
    {
     "data": {
      "application/vnd.jupyter.widget-view+json": {
       "model_id": "2c04d176ad92410e9bcc00f0239715c4",
       "version_major": 2,
       "version_minor": 0
      },
      "text/plain": [
       "model-00002-of-00002.safetensors:   0%|          | 0.00/3.64G [00:00<?, ?B/s]"
      ]
     },
     "metadata": {},
     "output_type": "display_data"
    },
    {
     "data": {
      "application/vnd.jupyter.widget-view+json": {
       "model_id": "7019d230f2e640e185ff9f020883234d",
       "version_major": 2,
       "version_minor": 0
      },
      "text/plain": [
       "model-00001-of-00002.safetensors:   0%|          | 0.00/4.96G [00:00<?, ?B/s]"
      ]
     },
     "metadata": {},
     "output_type": "display_data"
    },
    {
     "data": {
      "application/vnd.jupyter.widget-view+json": {
       "model_id": "014f72de10004cfd9bfbf88a60e4e823",
       "version_major": 2,
       "version_minor": 0
      },
      "text/plain": [
       "Loading checkpoint shards:   0%|          | 0/2 [00:00<?, ?it/s]"
      ]
     },
     "metadata": {},
     "output_type": "display_data"
    },
    {
     "data": {
      "application/vnd.jupyter.widget-view+json": {
       "model_id": "f0fe52be88e645a98a5caf2f67df29d7",
       "version_major": 2,
       "version_minor": 0
      },
      "text/plain": [
       "generation_config.json:   0%|          | 0.00/215 [00:00<?, ?B/s]"
      ]
     },
     "metadata": {},
     "output_type": "display_data"
    }
   ],
   "source": [
    "model_name = \"google/gemma-3-4b-it\"\n",
    "chain1_tokenizer = AutoTokenizer.from_pretrained(model_name)\n",
    "chain1_tokenizer.pad_token = chain1_tokenizer.eos_token\n",
    "chain1_tokenizer.padding_side = 'right'\n",
    "\n",
    "chain1_model = AutoModelForCausalLM.from_pretrained(\n",
    "    model_name,\n",
    "    torch_dtype=\"auto\",      \n",
    "    device_map=\"auto\"\n",
    ")"
   ]
  },
  {
   "cell_type": "code",
   "execution_count": 9,
   "id": "c3cca0d6-1fe8-4e17-9568-231d9d5001d2",
   "metadata": {},
   "outputs": [],
   "source": [
    "# news_articles, financials, topics collections들 가져오기(단순 로드)\n",
    "\n",
    "news_articles_collection = Chroma(client=client, collection_name=\"news_articles\", embedding_function=embedding)\n",
    "topics_collection = Chroma(client=client, collection_name=\"topics\",   embedding_function=embedding)"
   ]
  },
  {
   "cell_type": "code",
   "execution_count": 10,
   "id": "54c5d4b0-75a8-4c00-ae10-c44ee2242add",
   "metadata": {},
   "outputs": [
    {
     "name": "stderr",
     "output_type": "stream",
     "text": [
      "Device set to use cuda:0\n",
      "The following generation flags are not valid and may be ignored: ['temperature', 'top_p', 'top_k']. Set `TRANSFORMERS_VERBOSITY=info` for more details.\n"
     ]
    }
   ],
   "source": [
    "########### Inference setting code using RetrievalQAWithSourcesChain ############\n",
    "\n",
    "topk_doc = 10 # Example\n",
    "\n",
    "pipe = pipeline(\n",
    "   \"text-generation\",\n",
    "    model=chain1_model,\n",
    "    tokenizer=chain1_tokenizer,\n",
    "    max_new_tokens=1024,\n",
    "    do_sample=False,\n",
    "    return_full_text=False,\n",
    "    repetition_penalty=1.1,\n",
    "    #no_repeat_ngram_size=3,\n",
    ")\n",
    "\n",
    "chain1_llm = HuggingFacePipeline(pipeline=pipe)\n",
    "\n",
    "\n",
    "document_prompt = PromptTemplate(\n",
    "    template=\"{page_content}\",\n",
    "    input_variables=[\"page_content\"]\n",
    ")\n",
    "\n",
    "qa_prompt = PromptTemplate(\n",
    "    template=(\n",
    "        \"아래 컨텐츠만을 근거로 질문에 한국어로 답하세요.\\n\\n\"\n",
    "        \"모르면 모른다고 답하세요.\\n\\n\"\n",
    "        \"질문에 언급된 이름들을 찾을 수 없을 때, 최대한 비슷한 맥락의 단어를 파악하여 질문에 충실하고 정확하게 답하세요.\\n\\n\"\n",
    "        \"답변에 사용된 근거 컨텐츠를 원문 그대로 반드시 덧붙여서 답하세요.\\n\\n\"\n",
    "        \"근거 컨텐츠를 덧붙일 때는 '출처: '와 같은 양식을 따르고, 출처는 컨텐츠 원문을 그대로 출력하세요.\\n\\n\"\n",
    "        \"[엔터티 정규화 & 별칭 정책]\\n\\n\"\n",
    "        \"- '에스케이X','씨제이X' ↔ 'SKX', 'CJX'\\n\\n\"\n",
    "        \"- 로마자/띄어쓰기/대소문자/하이픈 차이 무시\\n\\n\"\n",
    "        \"- (주)/㈜/Co., Ltd./Inc./홀딩스 등 접미사 무시\\n\\n\"\n",
    "        \"- SK하이닉스 ≡ 에스케이하이닉스 ≡ SK Hynix ≡ SKHynix ≡ 하이닉스\\n\\n\"\n",
    "        \"- CJ씨푸드 ≡ 씨제이씨푸드 ≡ CJ Seafood ≡ CJSeafood \\n\\n\"\n",
    "        \"- 별칭 전체(OR)로 질의 확장 후 매칭/검색 수행\\n\\n\"        \n",
    "        \"질문에 등장한 기업명을 위 별칭 정책으로 확장하여 컨텐츠를 매칭하세요.\\n\\n\"\n",
    "        \"Question: {question}\\n\\n\" # prompting한 question\n",
    "        \"Contents: {contents}\\n\\n\" \n",
    "        \"Anwser:\" # 모델이 qeustions에 맞게 생성한 응답\n",
    "    ),\n",
    "    input_variables=[\"contents\", \"question\"]\n",
    ")\n",
    "\n",
    "retriever=news_articles_collection.as_retriever(search_kwargs={\"k\": topk_doc}) \n",
    "\n",
    "###### 실행 순서 ######\n",
    "# (1) as_retiever(): DB안에서 question에 맞는 topk 문서 추출(이때, Document 전체 반환)\n",
    "# (2) document_prompt: as_retiever()에서 반환된 documents가 document_prompt에 전달되어 포맷팅(==contents)\n",
    "# (3) qa_prompt: (2)에서 포맷팅된 값(==contents)이 qa_prompt를 거쳐 최종적으로 output을 generation\n",
    "\n",
    "qa_chain = RetrievalQAWithSourcesChain.from_chain_type( \n",
    "    llm = chain1_llm,\n",
    "    chain_type=\"stuff\",\n",
    "    return_source_documents=False,\n",
    "    retriever=retriever,\n",
    "    chain_type_kwargs={\n",
    "        \"document_prompt\": document_prompt,\n",
    "        \"prompt\": qa_prompt,\n",
    "        \"document_variable_name\": \"contents\"\n",
    "    }\n",
    ")"
   ]
  },
  {
   "cell_type": "code",
   "execution_count": 120,
   "id": "a3c65450-3000-4b07-8486-220631fa0633",
   "metadata": {
    "scrolled": true
   },
   "outputs": [
    {
     "data": {
      "application/vnd.jupyter.widget-view+json": {
       "model_id": "da07f775be594d2a9bbc7945e75bd406",
       "version_major": 2,
       "version_minor": 0
      },
      "text/plain": [
       "Batches:   0%|          | 0/1 [00:00<?, ?it/s]"
      ]
     },
     "metadata": {},
     "output_type": "display_data"
    },
    {
     "name": "stderr",
     "output_type": "stream",
     "text": [
      "/opt/conda/lib/python3.10/site-packages/torch/nn/modules/module.py:1750: FutureWarning: `encoder_attention_mask` is deprecated and will be removed in version 4.55.0 for `XLMRobertaSdpaSelfAttention.forward`.\n",
      "  return forward_call(*args, **kwargs)\n"
     ]
    }
   ],
   "source": [
    "########### company별 keyword 추출: topics_collection ############\n",
    "\n",
    "#추후 사용자의 질문에서 실제 회사명 키워드를 뽑아내는 작업이 필요함(자동화)\n",
    "#DB 업데이트 후 확인 필요(에스케이하이닉스)\n",
    "\n",
    "kw_query = '하이트진로' #컴퍼니 기준으로 키워드 찾기\n",
    "\n",
    "keyword = kw_query\n",
    "topk = 1\n",
    "\n",
    "kw_topics = topics_collection.similarity_search(kw_query, k=topk)\n",
    "\n",
    "company=kw_topics[0].metadata.get('company')\n",
    "com_to_key=kw_topics[0].metadata.get('keyword')"
   ]
  },
  {
   "cell_type": "code",
   "execution_count": 121,
   "id": "fb96a383-5787-4712-a11a-660a716c2bbd",
   "metadata": {},
   "outputs": [
    {
     "name": "stdout",
     "output_type": "stream",
     "text": [
      "[Document(id='cbf426b0-f5a3-4e5e-a7e2-00ce7c713f8b', metadata={'company': '하이트진로', 'doc_type': 'topics', 'keyword': '알코올음료'}, page_content='하이트진로 키워드: 알코올음료')]\n"
     ]
    }
   ],
   "source": [
    "print(kw_topics)"
   ]
  },
  {
   "cell_type": "code",
   "execution_count": 122,
   "id": "bf9c42b1-ade3-4ec9-806e-3dc6dff03626",
   "metadata": {
    "scrolled": true
   },
   "outputs": [
    {
     "data": {
      "application/vnd.jupyter.widget-view+json": {
       "model_id": "32bd3098c3764039ac3e479128b5822d",
       "version_major": 2,
       "version_minor": 0
      },
      "text/plain": [
       "Batches:   0%|          | 0/1 [00:00<?, ?it/s]"
      ]
     },
     "metadata": {},
     "output_type": "display_data"
    },
    {
     "name": "stderr",
     "output_type": "stream",
     "text": [
      "/opt/conda/lib/python3.10/site-packages/torch/nn/modules/module.py:1750: FutureWarning: `encoder_attention_mask` is deprecated and will be removed in version 4.55.0 for `XLMRobertaSdpaSelfAttention.forward`.\n",
      "  return forward_call(*args, **kwargs)\n"
     ]
    }
   ],
   "source": [
    "########### Output: question(company + keyword with company)에 따른 qa_chain에 결과 출력 코드 ############\n",
    "\n",
    "if keyword == company:\n",
    "    \n",
    "    questions = f\"기업 **{company}**의 기업 신용등급에 영향을 미칠만한 내용을 통해, **{com_to_key}** 업계의 동향을 파악하세요.\"\n",
    "    chain1_output = qa_chain({'question': questions})\n",
    "    \n",
    "else: \n",
    "    \n",
    "    print(\"데이터가 없는 회사입니다.\")\n",
    "    pass"
   ]
  },
  {
   "cell_type": "code",
   "execution_count": 123,
   "id": "442c2d78-e7f8-46fe-97f0-3c33e4941561",
   "metadata": {},
   "outputs": [],
   "source": [
    "#### chain1(llm)이 기사를 보고 업계의 동향을 파악한 output datas을 불러와서 chain2의 input으로 넘겨주기 위한 작업\n",
    "\n",
    "chain1_output_answer=[]\n",
    "\n",
    "for key, value in chain1_output.items():\n",
    "        \n",
    "    if key == 'sources':\n",
    "        break\n",
    "\n",
    "    else:\n",
    "        chain1_output_answer.append([key, value])"
   ]
  },
  {
   "cell_type": "code",
   "execution_count": 124,
   "id": "05b82f30-7517-4e42-a521-7ee08953aac5",
   "metadata": {},
   "outputs": [
    {
     "data": {
      "text/plain": [
       "[['question',\n",
       "  '기업 **하이트진로**의 기업 신용등급에 영향을 미칠만한 내용을 통해, **알코올음료** 업계의 동향을 파악하세요.'],\n",
       " ['answer',\n",
       "  '\\n출처: [https://www.marketin.kr/news/articleView.html?idxno=787733](https://www.marketin.kr/news/articleView.html?idxno=787733)\\n\\n하이트진로는 알코올음료 업계의 동향을 파악하기 위해 기업 신용등급에 영향을 미칠만한 내용을 통해 확인해야 합니다. 기사에 따르면, 중대재해가 발생할 경우 기업 신용평가에 마이너스 항목으로 명시될 수 있으며, 은행들이 중대재해를 신용평가에 직접 반영하는 방안을 논의하고 있습니다. 또한, 한화솔루션의 AA급 신용도가 하향될 가능성이 제기되고 있으며, 이는 태양광 사업의 차입금 부담과 케미칼 부문의 적자로 인해 발생합니다. 이는 기업의 재무 건전성에 부정적인 영향을 미칠 수 있으며, 결국 하이트진로를 포함한 기업들의 신용등급에도 영향을 미칠 수 있습니다.\\n']]"
      ]
     },
     "execution_count": 124,
     "metadata": {},
     "output_type": "execute_result"
    }
   ],
   "source": [
    "chain1_output_answer"
   ]
  },
  {
   "cell_type": "code",
   "execution_count": 16,
   "id": "168d515f-de4d-4c24-98c8-622fdeb8462d",
   "metadata": {},
   "outputs": [],
   "source": [
    "# 재무제표 텍스트 파일 불러오기 (input)\n",
    "\n",
    "from pathlib import Path\n",
    "\n",
    "def load_company_text_exact(company: str, base_dir: str = \"../financial_texts\"):\n",
    "    base = Path(base_dir)\n",
    "    match = next((p for p in base.glob(\"*.txt\") if p.stem == company), None)\n",
    "    if not match:\n",
    "        return None, None\n",
    "    return match.read_text(encoding=\"utf-8\")"
   ]
  },
  {
   "cell_type": "code",
   "execution_count": 125,
   "id": "dc2b69ac-9163-47b6-b4fe-ca9928c599c6",
   "metadata": {
    "scrolled": true
   },
   "outputs": [
    {
     "name": "stdout",
     "output_type": "stream",
     "text": [
      "하이트진로 2022/12 매출액: 24,975.55 하이트진로 2022/12 매출원가: 14,343.18 하이트진로 2022/12 매출총이익: 10,632.37 하이트진로 2022/12 판매비와관리비: 8,726.66 하이트진로 2022/12 인건비: 2,740.04 하이트진로 2022/12 유무형자산상각비: 380.40 하이트진로 2022/12 연구개발비: 0.0 하이트진로 2022/12 광고선전비: 1,848.28 하이트진로 2022/12 판매비: 1,355.71 하이트진로 2022/12 관리비: 1,185.94 하이트진로 2022/12 기타원가성비용: 0.0 하이트진로 2022/12 기타: 1,216.29 하이트진로 2022/12 영업이익: 1,905.71 하이트진로 2022/12 영업이익(발표기준): 1,905.71 하이트진로 2022/12 금융수익: 251.99 하이트진로 2022/12 이자수익: 85.87 하이트진로 2022/12 배당금수익: 16.20 하이트진로 2022/12 외환이익: 74.14 하이트진로 2022/12 대손충당금환입액: 0.0 하이트진로 2022/12 매출채권처분이익: 0.0 하이트진로 2022/12 당기손익-공정가치측정 금융자산관련이익: 0.0 하이트진로 2022/12 금융자산처분이익: 0.0 하이트진로 2022/12 금융자산평가이익: 0.0 하이트진로 2022/12 금융자산손상차손환입: 0.0 하이트진로 2022/12 파생상품이익: 75.78 하이트진로 2022/12 기타금융수익: 0.0 하이트진로 2022/12 금융원가: 532.92 하이트진로 2022/12 이자비용: 386.15 하이트진로 2022/12 외환손실: 107.77 하이트진로 2022/12 대손상각비: 0.0 하이트진로 2022/12 당기손익-공정가치측정 금융자산관련손실: 0.0 하이트진로 2022/12 매출채권처분손실: 0.0 하이트진로 2022/12 금융자산처분손실: 0.0 하이트진로 2022/12 금융자산평가손실: 0.0 하이트진로 2022/12 금융자산손상차손: 0.0 하이트진로 2022/12 파생상품손실: 39.00 하이트진로 2022/12 기타금융원가: 0.0 하이트진로 2022/12 기타수익: 219.92 하이트진로 2022/12 이자수익: 0.0 하이트진로 2022/12 배당금수익: 0.0 하이트진로 2022/12 외환이익: 76.99 하이트진로 2022/12 재고자산감모손실환입: 0.0 하이트진로 2022/12 재고자산폐기(처분)이익: 0.0 하이트진로 2022/12 당기손익-공정가치측정 금융자산평가이익: 0.90 하이트진로 2022/12 자산처분(폐기)이익: 83.46 하이트진로 2022/12 자산평가이익: 0.0 하이트진로 2022/12 자산손상차손환입: 0.0 하이트진로 2022/12 파생상품이익: 0.0 하이트진로 2022/12 임대료수익: 33.06 하이트진로 2022/12 로열티수익: 0.0 하이트진로 2022/12 수수료수익: 0.0 하이트진로 2022/12 대손충당금환입: 1.44 하이트진로 2022/12 충당부채환입액: 0.0 하이트진로 2022/12 기타: 24.08 하이트진로 2022/12 기타비용: 630.90 하이트진로 2022/12 이자비용: 0.0 하이트진로 2022/12 외환손실: 70.10 하이트진로 2022/12 재고자산감모손실: 0.0 하이트진로 2022/12 재고자산폐기(처분)손실: 0.0 하이트진로 2022/12 당기손익-공정가치측정 금융자산평가손실: 10.28 하이트진로 2022/12 자산처분(폐기)손실: 261.34 하이트진로 2022/12 자산평가손실: 0.0 하이트진로 2022/12 자산손상차손: 267.40 하이트진로 2022/12 파생상품손실: 0.0 하이트진로 2022/12 기타대손상각비: 0.0 하이트진로 2022/12 충당부채전입액: 0.0 하이트진로 2022/12 기타: 21.78 하이트진로 2022/12 종속기업,공동지배기업및관계기업관련손익: 0.0 하이트진로 2022/12 지분법손익: 0.0 하이트진로 2022/12 종속기업,공동지배기업및관계기업투자주식처분손익: 0.0 하이트진로 2022/12 종속기업,공동지배기업및관계기업투자주식손상관련손익: 0.0 하이트진로 2022/12 기타: 0.0 하이트진로 2022/12 세전계속사업이익: 1,213.81 하이트진로 2022/12 법인세비용: 345.64 하이트진로 2022/12 계속영업이익: 868.16 하이트진로 2022/12 중단영업이익: 0.0 하이트진로 2022/12 당기순이익: 868.16 하이트진로 2022/12 지배주주순이익: 870.02 하이트진로 2022/12 비지배주주순이익: -1.85 하이트진로 2023/12 매출액: 25,201.82 하이트진로 2023/12 매출원가: 14,061.80 하이트진로 2023/12 매출총이익: 11,140.02 하이트진로 2023/12 판매비와관리비: 9,900.82 하이트진로 2023/12 인건비: 2,460.88 하이트진로 2023/12 유무형자산상각비: 399.77 하이트진로 2023/12 연구개발비: 0.0 하이트진로 2023/12 광고선전비: 2,457.55 하이트진로 2023/12 판매비: 1,191.95 하이트진로 2023/12 관리비: 1,467.66 하이트진로 2023/12 기타원가성비용: 0.0 하이트진로 2023/12 기타: 1,923.01 하이트진로 2023/12 영업이익: 1,239.20 하이트진로 2023/12 영업이익(발표기준): 1,239.20 하이트진로 2023/12 금융수익: 148.15 하이트진로 2023/12 이자수익: 105.57 하이트진로 2023/12 배당금수익: 8.28 하이트진로 2023/12 외환이익: 26.85 하이트진로 2023/12 대손충당금환입액: 0.0 하이트진로 2023/12 매출채권처분이익: 0.0 하이트진로 2023/12 당기손익-공정가치측정 금융자산관련이익: 0.0 하이트진로 2023/12 금융자산처분이익: 0.0 하이트진로 2023/12 금융자산평가이익: 0.0 하이트진로 2023/12 금융자산손상차손환입: 0.0 하이트진로 2023/12 파생상품이익: 7.44 하이트진로 2023/12 기타금융수익: 0.0 하이트진로 2023/12 금융원가: 515.07 하이트진로 2023/12 이자비용: 505.31 하이트진로 2023/12 외환손실: 8.17 하이트진로 2023/12 대손상각비: 0.0 하이트진로 2023/12 당기손익-공정가치측정 금융자산관련손실: 0.0 하이트진로 2023/12 매출채권처분손실: 0.0 하이트진로 2023/12 금융자산처분손실: 0.0 하이트진로 2023/12 금융자산평가손실: 0.0 하이트진로 2023/12 금융자산손상차손: 0.0 하이트진로 2023/12 파생상품손실: 1.59 하이트진로 2023/12 기타금융원가: 0.0 하이트진로 2023/12 기타수익: 161.11 하이트진로 2023/12 이자수익: 0.0 하이트진로 2023/12 배당금수익: 0.0 하이트진로 2023/12 외환이익: 57.49 하이트진로 2023/12 재고자산감모손실환입: 0.0 하이트진로 2023/12 재고자산폐기(처분)이익: 0.0 하이트진로 2023/12 당기손익-공정가치측정 금융자산평가이익: 2.52 하이트진로 2023/12 자산처분(폐기)이익: 36.30 하이트진로 2023/12 자산평가이익: 0.0 하이트진로 2023/12 자산손상차손환입: 0.0 하이트진로 2023/12 파생상품이익: 0.0 하이트진로 2023/12 임대료수익: 41.44 하이트진로 2023/12 로열티수익: 0.0 하이트진로 2023/12 수수료수익: 0.0 하이트진로 2023/12 대손충당금환입: 0.0 하이트진로 2023/12 충당부채환입액: 0.0 하이트진로 2023/12 기타: 23.35 하이트진로 2023/12 기타비용: 348.82 하이트진로 2023/12 이자비용: 0.0 하이트진로 2023/12 외환손실: 64.38 하이트진로 2023/12 재고자산감모손실: 0.0 하이트진로 2023/12 재고자산폐기(처분)손실: 0.0 하이트진로 2023/12 당기손익-공정가치측정 금융자산평가손실: 5.71 하이트진로 2023/12 자산처분(폐기)손실: 227.41 하이트진로 2023/12 자산평가손실: 0.0 하이트진로 2023/12 자산손상차손: 13.90 하이트진로 2023/12 파생상품손실: 0.0 하이트진로 2023/12 기타대손상각비: 0.13 하이트진로 2023/12 충당부채전입액: 0.0 하이트진로 2023/12 기타: 37.29 하이트진로 2023/12 종속기업,공동지배기업및관계기업관련손익: 0.0 하이트진로 2023/12 지분법손익: 0.0 하이트진로 2023/12 종속기업,공동지배기업및관계기업투자주식처분손익: 0.0 하이트진로 2023/12 종속기업,공동지배기업및관계기업투자주식손상관련손익: 0.0 하이트진로 2023/12 기타: 0.0 하이트진로 2023/12 세전계속사업이익: 684.57 하이트진로 2023/12 법인세비용: 329.46 하이트진로 2023/12 계속영업이익: 355.11 하이트진로 2023/12 중단영업이익: 0.0 하이트진로 2023/12 당기순이익: 355.11 하이트진로 2023/12 지배주주순이익: 356.48 하이트진로 2023/12 비지배주주순이익: -1.37 하이트진로 2024/12 매출액: 25,991.83 하이트진로 2024/12 매출원가: 14,139.46 하이트진로 2024/12 매출총이익: 11,852.37 하이트진로 2024/12 판매비와관리비: 9,770.96 하이트진로 2024/12 인건비: 2,830.88 하이트진로 2024/12 유무형자산상각비: 403.09 하이트진로 2024/12 연구개발비: 0.0 하이트진로 2024/12 광고선전비: 1,922.24 하이트진로 2024/12 판매비: 1,310.80 하이트진로 2024/12 관리비: 1,434.52 하이트진로 2024/12 기타원가성비용: 0.0 하이트진로 2024/12 기타: 1,869.42 하이트진로 2024/12 영업이익: 2,081.42 하이트진로 2024/12 영업이익(발표기준): 2,081.42 하이트진로 2024/12 금융수익: 192.05 하이트진로 2024/12 이자수익: 91.17 하이트진로 2024/12 배당금수익: 9.16 하이트진로 2024/12 외환이익: 22.90 하이트진로 2024/12 대손충당금환입액: 0.0 하이트진로 2024/12 매출채권처분이익: 0.0 하이트진로 2024/12 당기손익-공정가치측정 금융자산관련이익: 0.0 하이트진로 2024/12 금융자산처분이익: 0.0 하이트진로 2024/12 금융자산평가이익: 0.0 하이트진로 2024/12 금융자산손상차손환입: 0.0 하이트진로 2024/12 파생상품이익: 68.82 하이트진로 2024/12 기타금융수익: 0.0 하이트진로 2024/12 금융원가: 612.28 하이트진로 2024/12 이자비용: 544.56 하이트진로 2024/12 외환손실: 67.72 하이트진로 2024/12 대손상각비: 0.0 하이트진로 2024/12 당기손익-공정가치측정 금융자산관련손실: 0.0 하이트진로 2024/12 매출채권처분손실: 0.0 하이트진로 2024/12 금융자산처분손실: 0.0 하이트진로 2024/12 금융자산평가손실: 0.0 하이트진로 2024/12 금융자산손상차손: 0.0 하이트진로 2024/12 파생상품손실: 0.0 하이트진로 2024/12 기타금융원가: 0.0 하이트진로 2024/12 기타수익: 205.98 하이트진로 2024/12 이자수익: 0.0 하이트진로 2024/12 배당금수익: 0.0 하이트진로 2024/12 외환이익: 82.95 하이트진로 2024/12 재고자산감모손실환입: 0.0 하이트진로 2024/12 재고자산폐기(처분)이익: 0.0 하이트진로 2024/12 당기손익-공정가치측정 금융자산평가이익: 3.31 하이트진로 2024/12 자산처분(폐기)이익: 47.66 하이트진로 2024/12 자산평가이익: 0.0 하이트진로 2024/12 자산손상차손환입: 0.0 하이트진로 2024/12 파생상품이익: 0.0 하이트진로 2024/12 임대료수익: 50.86 하이트진로 2024/12 로열티수익: 0.0 하이트진로 2024/12 수수료수익: 0.0 하이트진로 2024/12 대손충당금환입: 0.0 하이트진로 2024/12 충당부채환입액: 0.0 하이트진로 2024/12 기타: 21.19 하이트진로 2024/12 기타비용: 597.85 하이트진로 2024/12 이자비용: 0.0 하이트진로 2024/12 외환손실: 43.26 하이트진로 2024/12 재고자산감모손실: 0.0 하이트진로 2024/12 재고자산폐기(처분)손실: 0.0 하이트진로 2024/12 당기손익-공정가치측정 금융자산평가손실: 14.33 하이트진로 2024/12 자산처분(폐기)손실: 170.29 하이트진로 2024/12 자산평가손실: 0.0 하이트진로 2024/12 자산손상차손: 347.03 하이트진로 2024/12 파생상품손실: 0.0 하이트진로 2024/12 기타대손상각비: 0.16 하이트진로 2024/12 충당부채전입액: 0.0 하이트진로 2024/12 기타: 22.78 하이트진로 2024/12 종속기업,공동지배기업및관계기업관련손익: 0.0 하이트진로 2024/12 지분법손익: 0.0 하이트진로 2024/12 종속기업,공동지배기업및관계기업투자주식처분손익: 0.0 하이트진로 2024/12 종속기업,공동지배기업및관계기업투자주식손상관련손익: 0.0 하이트진로 2024/12 기타: 0.0 하이트진로 2024/12 세전계속사업이익: 1,269.33 하이트진로 2024/12 법인세비용: 311.98 하이트진로 2024/12 계속영업이익: 957.35 하이트진로 2024/12 중단영업이익: 0.0 하이트진로 2024/12 당기순이익: 957.35 하이트진로 2024/12 지배주주순이익: 958.67 하이트진로 2024/12 비지배주주순이익: -1.32 하이트진로 2025/03 매출액: 6,127.77 하이트진로 2025/03 매출원가: 3,363.88 하이트진로 2025/03 매출총이익: 2,763.89 하이트진로 2025/03 판매비와관리비: 2,136.63 하이트진로 2025/03 인건비: 652.62 하이트진로 2025/03 유무형자산상각비: 100.46 하이트진로 2025/03 연구개발비: 0.0 하이트진로 2025/03 광고선전비: 302.15 하이트진로 2025/03 판매비: 333.09 하이트진로 2025/03 관리비: 344.21 하이트진로 2025/03 기타원가성비용: 0.0 하이트진로 2025/03 기타: 404.10 하이트진로 2025/03 영업이익: 627.25 하이트진로 2025/03 영업이익(발표기준): 627.25 하이트진로 2025/03 금융수익: 29.98 하이트진로 2025/03 이자수익: 18.24 하이트진로 2025/03 배당금수익: 5.34 하이트진로 2025/03 외환이익: 6.40 하이트진로 2025/03 대손충당금환입액: 0.0 하이트진로 2025/03 매출채권처분이익: 0.0 하이트진로 2025/03 당기손익-공정가치측정 금융자산관련이익: 0.0 하이트진로 2025/03 금융자산처분이익: 0.0 하이트진로 2025/03 금융자산평가이익: 0.0 하이트진로 2025/03 금융자산손상차손환입: 0.0 하이트진로 2025/03 파생상품이익: 0.0 하이트진로 2025/03 기타금융수익: 0.0 하이트진로 2025/03 금융원가: 119.19 하이트진로 2025/03 이자비용: 116.92 하이트진로 2025/03 외환손실: 0.34 하이트진로 2025/03 대손상각비: 0.0 하이트진로 2025/03 당기손익-공정가치측정 금융자산관련손실: 0.0 하이트진로 2025/03 매출채권처분손실: 0.0 하이트진로 2025/03 금융자산처분손실: 0.0 하이트진로 2025/03 금융자산평가손실: 0.0 하이트진로 2025/03 금융자산손상차손: 0.0 하이트진로 2025/03 파생상품손실: 1.92 하이트진로 2025/03 기타금융원가: 0.0 하이트진로 2025/03 기타수익: 57.80 하이트진로 2025/03 이자수익: 0.0 하이트진로 2025/03 배당금수익: 0.0 하이트진로 2025/03 외환이익: 39.41 하이트진로 2025/03 재고자산감모손실환입: 0.0 하이트진로 2025/03 재고자산폐기(처분)이익: 0.0 하이트진로 2025/03 당기손익-공정가치측정 금융자산평가이익: 0.0 하이트진로 2025/03 자산처분(폐기)이익: 2.33 하이트진로 2025/03 자산평가이익: 0.0 하이트진로 2025/03 자산손상차손환입: 0.0 하이트진로 2025/03 파생상품이익: 0.0 하이트진로 2025/03 임대료수익: 14.31 하이트진로 2025/03 로열티수익: 0.0 하이트진로 2025/03 수수료수익: 0.0 하이트진로 2025/03 대손충당금환입: 0.0 하이트진로 2025/03 충당부채환입액: 0.0 하이트진로 2025/03 기타: 1.75 하이트진로 2025/03 기타비용: 79.04 하이트진로 2025/03 이자비용: 0.0 하이트진로 2025/03 외환손실: 49.06 하이트진로 2025/03 재고자산감모손실: 0.0 하이트진로 2025/03 재고자산폐기(처분)손실: 0.0 하이트진로 2025/03 당기손익-공정가치측정 금융자산평가손실: 0.94 하이트진로 2025/03 자산처분(폐기)손실: 26.16 하이트진로 2025/03 자산평가손실: 0.0 하이트진로 2025/03 자산손상차손: 0.0 하이트진로 2025/03 파생상품손실: 0.0 하이트진로 2025/03 기타대손상각비: 0.01 하이트진로 2025/03 충당부채전입액: 0.0 하이트진로 2025/03 기타: 2.87 하이트진로 2025/03 종속기업,공동지배기업및관계기업관련손익: -0.39 하이트진로 2025/03 지분법손익: -0.39 하이트진로 2025/03 종속기업,공동지배기업및관계기업투자주식처분손익: 0.0 하이트진로 2025/03 종속기업,공동지배기업및관계기업투자주식손상관련손익: 0.0 하이트진로 2025/03 기타: 0.0 하이트진로 2025/03 세전계속사업이익: 516.42 하이트진로 2025/03 법인세비용: 136.47 하이트진로 2025/03 계속영업이익: 379.95 하이트진로 2025/03 중단영업이익: 0.0 하이트진로 2025/03 당기순이익: 379.95 하이트진로 2025/03 지배주주순이익: 380.14 하이트진로 2025/03 비지배주주순이익: -0.18 하이트진로 전년동기 매출액: 6,211.49 하이트진로 전년동기 매출원가: 3,408.93 하이트진로 전년동기 매출총이익: 2,802.56 하이트진로 전년동기 판매비와관리비: 2,319.04 하이트진로 전년동기 인건비: 646.03 하이트진로 전년동기 유무형자산상각비: 100.36 하이트진로 전년동기 연구개발비: 0.0 하이트진로 전년동기 광고선전비: 465.08 하이트진로 전년동기 판매비: 337.62 하이트진로 전년동기 관리비: 345.21 하이트진로 전년동기 기타원가성비용: 0.0 하이트진로 전년동기 기타: 424.74 하이트진로 전년동기 영업이익: 483.52 하이트진로 전년동기 영업이익(발표기준): 483.52 하이트진로 전년동기 금융수익: 60.92 하이트진로 전년동기 이자수익: 20.50 하이트진로 전년동기 배당금수익: 8.97 하이트진로 전년동기 외환이익: 8.97 하이트진로 전년동기 대손충당금환입액: 0.0 하이트진로 전년동기 매출채권처분이익: 0.0 하이트진로 전년동기 당기손익-공정가치측정 금융자산관련이익: 0.0 하이트진로 전년동기 금융자산처분이익: 0.0 하이트진로 전년동기 금융자산평가이익: 0.0 하이트진로 전년동기 금융자산손상차손환입: 0.0 하이트진로 전년동기 파생상품이익: 22.47 하이트진로 전년동기 기타금융수익: 0.0 하이트진로 전년동기 금융원가: 155.84 하이트진로 전년동기 이자비용: 133.14 하이트진로 전년동기 외환손실: 22.70 하이트진로 전년동기 대손상각비: 0.0 하이트진로 전년동기 당기손익-공정가치측정 금융자산관련손실: 0.0 하이트진로 전년동기 매출채권처분손실: 0.0 하이트진로 전년동기 금융자산처분손실: 0.0 하이트진로 전년동기 금융자산평가손실: 0.0 하이트진로 전년동기 금융자산손상차손: 0.0 하이트진로 전년동기 파생상품손실: 0.0 하이트진로 전년동기 기타금융원가: 0.0 하이트진로 전년동기 기타수익: 42.24 하이트진로 전년동기 이자수익: 0.0 하이트진로 전년동기 배당금수익: 0.0 하이트진로 전년동기 외환이익: 22.59 하이트진로 전년동기 재고자산감모손실환입: 0.0 하이트진로 전년동기 재고자산폐기(처분)이익: 0.0 하이트진로 전년동기 당기손익-공정가치측정 금융자산평가이익: 3.04 하이트진로 전년동기 자산처분(폐기)이익: 2.64 하이트진로 전년동기 자산평가이익: 0.0 하이트진로 전년동기 자산손상차손환입: 0.0 하이트진로 전년동기 파생상품이익: 0.0 하이트진로 전년동기 임대료수익: 11.40 하이트진로 전년동기 로열티수익: 0.0 하이트진로 전년동기 수수료수익: 0.0 하이트진로 전년동기 대손충당금환입: 0.0 하이트진로 전년동기 충당부채환입액: 0.0 하이트진로 전년동기 기타: 2.57 하이트진로 전년동기 기타비용: 50.61 하이트진로 전년동기 이자비용: 0.0 하이트진로 전년동기 외환손실: 9.41 하이트진로 전년동기 재고자산감모손실: 0.0 하이트진로 전년동기 재고자산폐기(처분)손실: 0.0 하이트진로 전년동기 당기손익-공정가치측정 금융자산평가손실: 1.85 하이트진로 전년동기 자산처분(폐기)손실: 34.76 하이트진로 전년동기 자산평가손실: 0.0 하이트진로 전년동기 자산손상차손: 0.0 하이트진로 전년동기 파생상품손실: 0.0 하이트진로 전년동기 기타대손상각비: 0.12 하이트진로 전년동기 충당부채전입액: 0.0 하이트진로 전년동기 기타: 4.46 하이트진로 전년동기 종속기업,공동지배기업및관계기업관련손익: 0.0 하이트진로 전년동기 지분법손익: 0.0 하이트진로 전년동기 종속기업,공동지배기업및관계기업투자주식처분손익: 0.0 하이트진로 전년동기 종속기업,공동지배기업및관계기업투자주식손상관련손익: 0.0 하이트진로 전년동기 기타: 0.0 하이트진로 전년동기 세전계속사업이익: 380.23 하이트진로 전년동기 법인세비용: 118.60 하이트진로 전년동기 계속영업이익: 261.63 하이트진로 전년동기 중단영업이익: 0.0 하이트진로 전년동기 당기순이익: 261.63 하이트진로 전년동기 지배주주순이익: 262.53 하이트진로 전년동기 비지배주주순이익: -0.90\n"
     ]
    }
   ],
   "source": [
    "financial_txt = load_company_text_exact(keyword)\n",
    "print(financial_txt)"
   ]
  },
  {
   "cell_type": "code",
   "execution_count": null,
   "id": "7c96489e-70ec-4410-b44c-4273f63e3353",
   "metadata": {},
   "outputs": [],
   "source": [
    "###########################"
   ]
  },
  {
   "cell_type": "code",
   "execution_count": 18,
   "id": "b0df97af-c31f-451c-96ee-424d737a026d",
   "metadata": {},
   "outputs": [
    {
     "data": {
      "application/vnd.jupyter.widget-view+json": {
       "model_id": "fb8c3bef356c4f858467ef6b995f6d08",
       "version_major": 2,
       "version_minor": 0
      },
      "text/plain": [
       "Loading checkpoint shards:   0%|          | 0/4 [00:00<?, ?it/s]"
      ]
     },
     "metadata": {},
     "output_type": "display_data"
    }
   ],
   "source": [
    "#### Cahin2 model load ####\n",
    "\n",
    "model_name_2 = \"meta-llama/Meta-Llama-3.1-8B-Instruct\"\n",
    "chain2_tokenizer = AutoTokenizer.from_pretrained(model_name_2)\n",
    "chain2_tokenizer.pad_token = chain2_tokenizer.eos_token\n",
    "chain2_tokenizer.padding_side = 'right'\n",
    "\n",
    "chain2_model = AutoModelForCausalLM.from_pretrained(\n",
    "    model_name_2,\n",
    "    torch_dtype=\"auto\",\n",
    "    device_map=\"auto\"\n",
    ")"
   ]
  },
  {
   "cell_type": "code",
   "execution_count": 126,
   "id": "7048dda2-4080-4212-96dc-cbaaa304dd08",
   "metadata": {},
   "outputs": [],
   "source": [
    "##### question format 작성하기 ##### \n",
    "\n",
    "final_question = f\"기업 **{company}**의 재무제표와, 최신기사를 통해 {com_to_key} 업계의 동향을 분석한 **Chain1 LLM 답변**을 참고하여 **{company}**의 신용등급을 예측하세요.\""
   ]
  },
  {
   "cell_type": "code",
   "execution_count": 127,
   "id": "0bafd402-c66b-41af-b95c-9e33eb8c0cc3",
   "metadata": {
    "scrolled": true
   },
   "outputs": [
    {
     "name": "stderr",
     "output_type": "stream",
     "text": [
      "Device set to use cuda:0\n",
      "The following generation flags are not valid and may be ignored: ['temperature', 'top_p']. Set `TRANSFORMERS_VERBOSITY=info` for more details.\n",
      "The following generation flags are not valid and may be ignored: ['temperature', 'top_p']. Set `TRANSFORMERS_VERBOSITY=info` for more details.\n"
     ]
    }
   ],
   "source": [
    "########### Chain2 building TEST ############\n",
    "\n",
    "chain2_pipe = pipeline(\n",
    "   \"text-generation\",\n",
    "    model=chain2_model,\n",
    "    tokenizer=chain2_tokenizer,\n",
    "    max_new_tokens=1024,\n",
    "    do_sample=False,\n",
    "    return_full_text=False,\n",
    "    repetition_penalty=1.1,\n",
    "    no_repeat_ngram_size=0,\n",
    ")\n",
    "\n",
    "chain2_llm = HuggingFacePipeline(pipeline=chain2_pipe)\n",
    "\n",
    "\n",
    "##### chain2_prompt 작성하기 #####\n",
    "chain2_prompt = PromptTemplate(\n",
    "    template=(\n",
    "    \"### System:\\n\"\n",
    "    \"당신은 신용평가기관의 신용평가사입니다.\\n\\n\"\n",
    "    \"아래 제공되는 컨텍스트 근거로 질문에 한국어로 답하세요.\\n\\n\"\n",
    "    \"주어진 질문에 분석적이고 전문적으로 대답하세요.\\n\\n\"\n",
    "    \"주어진 질문에 대해 주관적인 판단보다 재무제표와 다른 LLM 답변을 바탕으로 객관적으로 대답하되, 반복적으로 LLM 답변을 참고했다는 것을 명시하지 마세요.\\n\\n\"   \n",
    "    \"이때 단순 추론이 아닌 입력으로 들어오는 기업명, 기업의 재무제표, 관련 기사를 참고하여 정확한 근거와 함께 분석하여 근거로 제시하세요.\\n\\n\"\n",
    "    \"이 근거를 바탕으로 해당 기업의 신용도가 하락할 것 같은지 **'고위험도 / 중간위험도 / 하락위험없음'** 중에 하나로 예측하세요.\\n\\n\"\n",
    "    \"**'고위험도 / 중간위험도 / 하락위험없음'** 중에 하나의 선택지를 골라서 기업의 신용위험등급을 예측하는 답변을 생성해야만 합니다.\\n\\n\"\n",
    "    \n",
    "    '''\n",
    "    ### User: \\n\\n\n",
    "    \n",
    "    **[재무제표]**\\n\\n\n",
    "    {context}\\n\\n\n",
    "    \n",
    "    **[다른 LLM 답변]**\\n\\n\n",
    "    {chain1_output}\\n\\n\n",
    "    \n",
    "    **[최종 질문]**\\n\\n\n",
    "    {input}\n",
    "\n",
    "\n",
    "    ### 지침:\n",
    "    - 다른 LLM 답변의 분석/주장이 재무제표와 맞는지 교차검증하고 필요시 정정하는 작업 필수\n",
    "    - 분기/연도, 주요 항목(매출, 매출총이익, 판관비, 이자비용 등)을 명시\n",
    "    - **신용등급을 예측 Task** 이므로, '고위험도 / 중간위험도 / 하락위험없음' 중에 하나의 지표를 골라서 반드시 대답을 할 것\n",
    "    - 만약 다른 LLM 답변이 참고할만한 내용이 없다면 재무제표만 보고 기업의 신용등급을 예측해서 제시할 것\n",
    "    - 신용등급에 예측에 대한 추론 내용이 반드시 들어가야 함\n",
    "\n",
    "    ### Answer: '''\n",
    "    ),\n",
    "    input_valiables=['financials', 'chain1_output', 'input']\n",
    ")\n",
    "\n",
    "\n",
    "# 문서 결합 체인(Stuff)\n",
    "combine_docs_chain = create_stuff_documents_chain(chain2_llm, chain2_prompt)\n",
    "\n",
    "financial_docs = [Document(page_content=financial_txt)] \n",
    "\n",
    "chain2_output_answer = combine_docs_chain.invoke({\n",
    "    \"input\": final_question,            \n",
    "    \"chain1_output\": chain1_output,\n",
    "    \"context\": financial_docs\n",
    "})"
   ]
  },
  {
   "cell_type": "code",
   "execution_count": 128,
   "id": "3e7d856a-d3eb-49bd-a51b-0ea029d98a40",
   "metadata": {},
   "outputs": [
    {
     "name": "stdout",
     "output_type": "stream",
     "text": [
      " 하이트진로의 신용등급을 예측하기 위해서는 먼저 재무제표를 분석해야 한다. 하이트진로는 매출액이 증가하고 있지만, 매출원가는 증가율이 더 높으며, 판매비와 관리비도 증가하고 있다. 이러한 현상은 하이트진로의 경쟁력 강화를 의미하지만, 동시에 운영 비용이 증가하고 있는 것으로 보인다. 또한, 이자비용이 증가하고 있어 하이트진로의 재무 건전성에 부정적인 영향을 미치는 요인이 될 수 있다. \\n\\n또한, 최근 기사에서 알코올 음료 업계의 동향을 살펴보았을 때, 중대재해가 발생할 경우 기업 신용평가에 마이너스 항목으로 명시될 수 있으며, 은행들이 중대재해를 신용평가에 직접 반영하는 방안을 논의하고 있다는 점을 고려하면, 하이트진로의 신용등급은 중간위험도로 예측된다. \\n\\n따라서, 하이트진로의 신용등급은 **중간위험도**로 예측된다.  ### Chain1 LLM 답변:  출처: [https://www.marketin.kr/news/articleView.html?idxno=787733](https://www.marketin.kr/news/articleView.html?idxno=787733) 하이트진로는 알코올음료 업계의 동향을 파악하기 위해 기업 신용등급에 영향을 미칠만한 내용을 통해 확인해야 합니다. 기사에 따르면, 중대재해가 발생할 경우 기업 신용평가에 마이너스 항목으로 명시될 수 있으며, 은행들이 중대재해를 신용평가에 직접 반영하는 방안을 논의하고 있습니다. 또한, 한화솔루션의 AA급 신용도가 하향될 가능성이 제기되고 있으며, 이는 태양광 사업의 차입금 부담과 케미칼 부문의 적자로 인해 발생합니다. 이는 기업의 재무 건전성에 부정적인 영향을 미칠 수 있으며, 결국 하이트진로를 포함한 기업들의 신용등급에도 영향을 미칠 수 있습니다. ### Chain2 LLM 답변:  하이트진로의 신용등급을 예측하기 위해서는 먼저 재무제표를 분석해야 한다. 하이트진로는 매출액이 증가하고 있지만, 매출원가는 증가율이 더 높으며, 판매비와 관리비도 증가하고 있다. 이러한 현상은 하이트진로의 경쟁력 강화를 의미하지만, 동시에 운영 비용이 증가하고 있는 것으로 보인다. 또한, 이자비용이 증가하고 있어 하이트진로의 재무 건전성에 부정적인 영향을 미치는 요인이 될 수 있다. 따라서, 하이트진로의 신용등급은 **중간위험도**로 예측된다. ### Chain3 LLM 답변:  하이트진로의 신용등급을 예측하기 위해서는 먼저 재무제표를 분석해야 한다. 하이트진로는 매출액이 증가하고 있지만, 매출원가는 증가율이 더 높으며, 판매비와 관리비도 증가하고 있다. 이러한 현상은 하이트진로의 경쟁력 강화를 의미하지만, 동시에 운영 비용이 증가하고 있는 것으로 보인다. 또한, 이자비용이 증가하고 있어 하이트진로의 재무 건전성에 부정적인 영향을 미치는 요인이 될 수 있다. 따라서, 하이트진로의 신용등급은 **중간위험도**로 예측된다. ### Chain4 LLM 답변:  하이트진로의 신용등급을 예측하기 위해서는 먼저 재무제표를 분석해야 한다. 하이트진로는 매출액이 증가하고 있지만, 매출원가는 증가율이 더 높으며, 판매비와 관리비도 증가하고 있다. 이러한 현상은 하이트진로의 경쟁력 강화를 의미하지만, 동시에 운영 비용이 증가하고 있는 것으로 보인다. 또한, 이자비용이 증가하고 있어 하이트진로의 재무 건전성에 부정적인 영향을 미치는 요인이 될 수 있다. 따라서, 하이트진로의 신용등급은 **중간위험도**로 예측된다. ### Chain5 LLM 답변:  하이트진로의 신용등급을 예측하기 위해서는 먼저 재무제표를 분석해야 한다. 하이트진로는 매출액이 증가하고 있지만, 매출원가는 증가율이 더 높으며, 판매비와 관리비도 증가하고 있다.\n"
     ]
    }
   ],
   "source": [
    "print(chain2_output_answer)"
   ]
  },
  {
   "cell_type": "code",
   "execution_count": null,
   "id": "1b575ab2-4ad5-413a-aa16-aef16dff557c",
   "metadata": {},
   "outputs": [],
   "source": []
  }
 ],
 "metadata": {
  "kernelspec": {
   "display_name": "Python 3 (ipykernel)",
   "language": "python",
   "name": "python3"
  },
  "language_info": {
   "codemirror_mode": {
    "name": "ipython",
    "version": 3
   },
   "file_extension": ".py",
   "mimetype": "text/x-python",
   "name": "python",
   "nbconvert_exporter": "python",
   "pygments_lexer": "ipython3",
   "version": "3.10.8"
  }
 },
 "nbformat": 4,
 "nbformat_minor": 5
}
