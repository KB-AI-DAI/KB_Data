{
 "cells": [
  {
   "cell_type": "code",
   "execution_count": 68,
   "id": "ffd3aabd-7fe1-4d15-85e7-193e2717656d",
   "metadata": {},
   "outputs": [],
   "source": [
    "import requests\n",
    "from bs4 import BeautifulSoup\n",
    "import pandas as pd\n",
    "import numpy as np\n",
    "import csv\n",
    "import re"
   ]
  },
  {
   "cell_type": "code",
   "execution_count": 69,
   "id": "3b82af7a-b769-4886-9ae3-3df8c0f17425",
   "metadata": {},
   "outputs": [],
   "source": [
    "#날짜 포맷팅 2025.08.08. 오전 5:07 -> 20250808_0507 (str)\n",
    "def date_format(s): \n",
    "    pat = re.compile(r'(\\d{4})\\.(\\d{2})\\.(\\d{2})\\.\\s*(오전|오후)\\s*(\\d{1,2}):(\\d{2})')\n",
    "    def repl(m):\n",
    "        y, mo, d, ap, h, mi = m.groups()\n",
    "        h = int(h)\n",
    "        if ap == '오전':\n",
    "            h = 0 if h == 12 else h\n",
    "        else:  # 오후\n",
    "            h = 12 if h == 12 else h + 12\n",
    "        return f\"{y}{mo}{d}_{h:02d}{mi}\" \n",
    "    out = pat.sub(repl, s)\n",
    "    return out "
   ]
  },
  {
   "cell_type": "code",
   "execution_count": 70,
   "id": "58aa6106-1171-4463-811a-6de8af6fa722",
   "metadata": {},
   "outputs": [],
   "source": [
    "#topic별 url 리스트 반환\n",
    "def make_urllist(): \n",
    "    urllist=[]\n",
    "    topic_txt_lnb=pd.read_csv('./naver_topicSet.csv',encoding='utf-8')\n",
    "    for row in topic_txt_lnb.iloc[:,1]:\n",
    "        url='https://news.naver.com/breakingnews/section%s'%str(row)\n",
    "        urllist.append(url) \n",
    "    return urllist"
   ]
  },
  {
   "cell_type": "code",
   "execution_count": 71,
   "id": "04962322-ff83-4c74-ba05-37681a4e07ce",
   "metadata": {},
   "outputs": [],
   "source": [
    "#제목, 날짜, 기사 내용 크롤\n",
    "def crawler(url):\n",
    "    try:\n",
    "        response = requests.get(url)\n",
    "        response.raise_for_status()  # 문제가 발생하면 예외 발생\n",
    "        html = response.text\n",
    "    except requests.exceptions.RequestException as e:\n",
    "        print(f\"웹 페이지 요청 오류: {e}\")\n",
    "        exit()\n",
    "    soup=BeautifulSoup(html,'html.parser')\n",
    "    # content 검색하여 AI, ...키워드로 삭제 저장 X\n",
    "    copyright=soup.find('p',{'class':'c_text'}).text.strip()\n",
    "    AI_ban=['AI'] #AI학습도 금지\n",
    "    for i in AI_ban:\n",
    "        if i in copyright:\n",
    "            print(\"AI_ban\")\n",
    "            print(copyright)\n",
    "            return 0 #종료\n",
    "    raw_date=soup.find(class_='media_end_head_info_datestamp_time _ARTICLE_DATE_TIME').text.strip() # date\n",
    "    date=date_format(raw_date)\n",
    "    title=soup.find('title').text.strip() # title\n",
    "    \n",
    "    content=soup.find(\"article\",id='dic_area').text.strip() # content\n",
    "    return date,title,content\n"
   ]
  },
  {
   "cell_type": "code",
   "execution_count": 77,
   "id": "ca1def92-cea7-4a49-a86a-cfa897b3e679",
   "metadata": {},
   "outputs": [],
   "source": [
    "# 기사 날짜, 제목, 내용 csv로 저장\n",
    "url='https://n.news.naver.com/mnews/article/029/0002974165'\n",
    "crawler(url)\n",
    "with open(\"article_data.csv\",\"w\",encoding='utf-8-sig',newline='')as file:\n",
    "    csv_writer=csv.writer(file)\n",
    "    csv_writer.writerow(crawler(url))"
   ]
  }
 ],
 "metadata": {
  "kernelspec": {
   "display_name": "Python 3 (ipykernel)",
   "language": "python",
   "name": "python3"
  },
  "language_info": {
   "codemirror_mode": {
    "name": "ipython",
    "version": 3
   },
   "file_extension": ".py",
   "mimetype": "text/x-python",
   "name": "python",
   "nbconvert_exporter": "python",
   "pygments_lexer": "ipython3",
   "version": "3.10.8"
  }
 },
 "nbformat": 4,
 "nbformat_minor": 5
}
