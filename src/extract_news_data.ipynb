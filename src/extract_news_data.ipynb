{
 "cells": [
  {
   "cell_type": "code",
   "execution_count": 31,
   "id": "4230d267-bb6d-49cb-bace-15e698b623ca",
   "metadata": {},
   "outputs": [],
   "source": [
    "import requests\n",
    "from bs4 import BeautifulSoup\n",
    "import pandas as pd\n",
    "import numpy as np\n",
    "from tqdm import tqdm\n",
    "from selenium import webdriver\n",
    "from selenium.webdriver.chrome.service import Service\n",
    "from selenium.webdriver.common.by import By\n",
    "from selenium.webdriver.common.keys import Keys\n",
    "import time"
   ]
  },
  {
   "cell_type": "code",
   "execution_count": 49,
   "id": "8c8c2d88-f0a1-4d90-8ecc-3a263776496c",
   "metadata": {},
   "outputs": [],
   "source": [
    "def click_btn(url):\n",
    "    \n",
    "    global driver\n",
    "\n",
    "    try:\n",
    "        response = requests.get(url)\n",
    "        response.raise_for_status()  # 문제가 발생하면 예외 발생\n",
    "        html = response.text\n",
    "    except requests.exceptions.RequestException as e:\n",
    "        print(f\"웹 페이지 요청 오류: {e}\")\n",
    "        exit()\n",
    "\n",
    "    # 페이지 끝까지 스크롤하기\n",
    "    body = driver.find_element(By.CSS_SELECTOR, 'body')\n",
    "    for _ in range(10):  # 10번 정도 END 키 누르기\n",
    "        body.send_keys(Keys.END)\n",
    "    \n",
    "    # XPath로 '기사 더보기' 버튼 찾기\n",
    "    refresh_btn = driver.find_element(By.XPATH, '//a[contains(@class, \"_CONTENT_LIST_LOAD_MORE_BUTTON\")]')\n",
    "    \n",
    "    # 클릭\n",
    "    try:\n",
    "        refresh_btn = driver.find_element(By.XPATH, '//a[contains(@class, \"_CONTENT_LIST_LOAD_MORE_BUTTON\")]')\n",
    "        driver.execute_script(\"arguments[0].click();\", refresh_btn)\n",
    "        time.sleep(2)  # 새 기사 로딩 대기\n",
    "    except Exception as e:\n",
    "        print(\"기사 더보기 버튼 클릭 실패:\", e)\n",
    "        return\n",
    "\n",
    "    soup = BeautifulSoup(html, 'html.parser')\n",
    "\n",
    "    # 뉴스 기사 링크 추출\n",
    "    test_news_tag = soup.find('a', 'sa_text_title _NLOG_IMPRESSION')\n",
    "\n",
    "    if test_news_tag:\n",
    "        article_url= test_news_tag.get(\"href\")\n",
    "        print(article_url)\n",
    "\n",
    "    else:\n",
    "        print(\"실패\")"
   ]
  },
  {
   "cell_type": "code",
   "execution_count": 50,
   "id": "4c2c8b17-0c47-4ca0-9c15-5700bd21032a",
   "metadata": {},
   "outputs": [],
   "source": [
    "driver = None\n",
    "\n",
    "def crawl_with_selenium(url):\n",
    "\n",
    "    global driver\n",
    "\n",
    "    # chrome path setting\n",
    "    driver_path = \"/workspace/chromedriver-linux64/chromedriver\"\n",
    "    chrome_path = \"/workspace/chrome-linux64/chrome\"\n",
    "    \n",
    "    chrome_options = webdriver.ChromeOptions()\n",
    "    \n",
    "    chrome_options.binary_location = chrome_path\n",
    "    chrome_options.add_argument(\"--headless\")\n",
    "    chrome_options.add_argument(\"--no-sandbox\")\n",
    "    chrome_options.add_argument(\"--disable-dev-shm-usage\")\n",
    "    \n",
    "    service = Service(executable_path=driver_path)\n",
    "    \n",
    "    driver = webdriver.Chrome(service=service, options=chrome_options)\n",
    "    \n",
    "    # __main__\n",
    "    driver.get(url)\n",
    "\n",
    "    click_btn(url)# 정치-대통령실 사이트\n",
    "    \n",
    "    print(driver.title)\n",
    "\n",
    "    "
   ]
  },
  {
   "cell_type": "code",
   "execution_count": 51,
   "id": "9c8e9f8b-bc5b-4783-945d-4c54bb55dd31",
   "metadata": {},
   "outputs": [
    {
     "name": "stdout",
     "output_type": "stream",
     "text": [
      "https://n.news.naver.com/mnews/article/008/0005233171\n",
      "정치 : 네이버 뉴스\n"
     ]
    }
   ],
   "source": [
    "crawl_with_selenium(\"https://news.naver.com/breakingnews/section/100/264\")"
   ]
  }
 ],
 "metadata": {
  "kernelspec": {
   "display_name": "Python 3 (ipykernel)",
   "language": "python",
   "name": "python3"
  },
  "language_info": {
   "codemirror_mode": {
    "name": "ipython",
    "version": 3
   },
   "file_extension": ".py",
   "mimetype": "text/x-python",
   "name": "python",
   "nbconvert_exporter": "python",
   "pygments_lexer": "ipython3",
   "version": "3.10.8"
  }
 },
 "nbformat": 4,
 "nbformat_minor": 5
}
