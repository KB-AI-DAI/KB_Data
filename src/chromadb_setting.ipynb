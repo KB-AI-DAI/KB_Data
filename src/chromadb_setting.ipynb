{
 "cells": [
  {
   "cell_type": "code",
   "execution_count": 1,
   "id": "f8dcd232-c20c-4cb6-92b1-14de7ab52615",
   "metadata": {},
   "outputs": [],
   "source": [
    "import os, glob, hashlib\n",
    "from dotenv import load_dotenv\n",
    "import pandas as pd\n",
    "from tqdm import tqdm\n",
    "import torch\n",
    "from langchain.schema import Document\n",
    "from langchain_huggingface import HuggingFaceEmbeddings\n",
    "from langchain.text_splitter import CharacterTextSplitter\n",
    "import chromadb\n",
    "from chromadb.config import Settings\n",
    "from langchain_chroma import Chroma"
   ]
  },
  {
   "cell_type": "code",
   "execution_count": null,
   "id": "f958cdc1-30fb-4c3f-823b-a805d9f5a6ce",
   "metadata": {},
   "outputs": [],
   "source": [
    "load_dotenv()"
   ]
  },
  {
   "cell_type": "code",
   "execution_count": 10,
   "id": "33ab872b-c061-432b-8783-a4fdeb2820ee",
   "metadata": {},
   "outputs": [],
   "source": [
    "# Chroma 연결\n",
    "CHROMA_HOST = os.getenv(\"CHROMA_HOST\")  # 도커 네트워크에서 컨테이너명\n",
    "CHROMA_PORT = int(os.getenv(\"CHROMA_PORT\"))\n",
    "\n",
    "client = chromadb.HttpClient(\n",
    "    host=CHROMA_HOST,\n",
    "    port=CHROMA_PORT,\n",
    "    settings=Settings()\n",
    ")"
   ]
  },
  {
   "cell_type": "code",
   "execution_count": 4,
   "id": "42551e80-1018-4de4-8ab2-10022dd1e5fe",
   "metadata": {
    "scrolled": true
   },
   "outputs": [],
   "source": [
    "# 임베딩 모델 지정\n",
    "model_name = \"BAAI/bge-m3\"\n",
    "model_kwargs = {'device': 'cuda'} \n",
    "\n",
    "embedding = HuggingFaceEmbeddings(\n",
    "    model_name=model_name, \n",
    "    model_kwargs=model_kwargs, \n",
    "    encode_kwargs=model_kwargs,\n",
    "    show_progress=True)"
   ]
  },
  {
   "cell_type": "code",
   "execution_count": 5,
   "id": "2a38805f-7861-4af1-ac5d-2172afb1568f",
   "metadata": {
    "collapsed": true,
    "jupyter": {
     "outputs_hidden": true
    },
    "scrolled": true
   },
   "outputs": [
    {
     "name": "stderr",
     "output_type": "stream",
     "text": [
      "  0%|          | 0/48 [00:00<?, ?it/s]Created a chunk of size 913, which is longer than the specified 400\n",
      "Created a chunk of size 438, which is longer than the specified 400\n",
      "  4%|▍         | 2/48 [00:00<00:07,  5.89it/s]Created a chunk of size 493, which is longer than the specified 400\n",
      " 10%|█         | 5/48 [00:00<00:03, 11.50it/s]Created a chunk of size 463, which is longer than the specified 400\n",
      "Created a chunk of size 640, which is longer than the specified 400\n",
      "Created a chunk of size 403, which is longer than the specified 400\n",
      "Created a chunk of size 402, which is longer than the specified 400\n",
      "Created a chunk of size 800, which is longer than the specified 400\n",
      "Created a chunk of size 410, which is longer than the specified 400\n",
      "Created a chunk of size 414, which is longer than the specified 400\n",
      "Created a chunk of size 403, which is longer than the specified 400\n",
      "Created a chunk of size 555, which is longer than the specified 400\n",
      " 15%|█▍        | 7/48 [00:01<00:06,  6.40it/s]Created a chunk of size 429, which is longer than the specified 400\n",
      "Created a chunk of size 415, which is longer than the specified 400\n",
      " 17%|█▋        | 8/48 [00:01<00:07,  5.57it/s]Created a chunk of size 403, which is longer than the specified 400\n",
      "Created a chunk of size 402, which is longer than the specified 400\n",
      "Created a chunk of size 410, which is longer than the specified 400\n",
      "Created a chunk of size 414, which is longer than the specified 400\n",
      "Created a chunk of size 404, which is longer than the specified 400\n",
      "Created a chunk of size 403, which is longer than the specified 400\n",
      "Created a chunk of size 871, which is longer than the specified 400\n",
      "Created a chunk of size 513, which is longer than the specified 400\n",
      " 19%|█▉        | 9/48 [00:01<00:09,  4.05it/s]Created a chunk of size 488, which is longer than the specified 400\n",
      " 23%|██▎       | 11/48 [00:01<00:06,  5.48it/s]Created a chunk of size 640, which is longer than the specified 400\n",
      "Created a chunk of size 800, which is longer than the specified 400\n",
      "Created a chunk of size 555, which is longer than the specified 400\n",
      " 27%|██▋       | 13/48 [00:02<00:05,  6.35it/s]Created a chunk of size 985, which is longer than the specified 400\n",
      "Created a chunk of size 588, which is longer than the specified 400\n",
      " 31%|███▏      | 15/48 [00:02<00:06,  4.85it/s]Created a chunk of size 451, which is longer than the specified 400\n",
      "Created a chunk of size 458, which is longer than the specified 400\n",
      " 33%|███▎      | 16/48 [00:02<00:05,  5.38it/s]Created a chunk of size 403, which is longer than the specified 400\n",
      " 48%|████▊     | 23/48 [00:03<00:02, 12.20it/s]Created a chunk of size 1177, which is longer than the specified 400\n",
      "Created a chunk of size 409, which is longer than the specified 400\n",
      "Created a chunk of size 497, which is longer than the specified 400\n",
      " 54%|█████▍    | 26/48 [00:03<00:01, 13.56it/s]Created a chunk of size 785, which is longer than the specified 400\n",
      "Created a chunk of size 466, which is longer than the specified 400\n",
      "Created a chunk of size 421, which is longer than the specified 400\n",
      "Created a chunk of size 425, which is longer than the specified 400\n",
      " 60%|██████    | 29/48 [00:03<00:01, 16.33it/s]Created a chunk of size 541, which is longer than the specified 400\n",
      "Created a chunk of size 452, which is longer than the specified 400\n",
      " 69%|██████▉   | 33/48 [00:03<00:00, 20.34it/s]Created a chunk of size 466, which is longer than the specified 400\n",
      "Created a chunk of size 425, which is longer than the specified 400\n",
      "Created a chunk of size 433, which is longer than the specified 400\n",
      " 75%|███████▌  | 36/48 [00:03<00:00, 15.39it/s]Created a chunk of size 427, which is longer than the specified 400\n",
      "Created a chunk of size 471, which is longer than the specified 400\n",
      "Created a chunk of size 404, which is longer than the specified 400\n",
      " 96%|█████████▌| 46/48 [00:04<00:00, 10.37it/s]Created a chunk of size 460, which is longer than the specified 400\n",
      "100%|██████████| 48/48 [00:05<00:00,  9.59it/s]"
     ]
    },
    {
     "name": "stdout",
     "output_type": "stream",
     "text": [
      "총 문서 개수: 181643\n"
     ]
    },
    {
     "name": "stderr",
     "output_type": "stream",
     "text": [
      "\n"
     ]
    }
   ],
   "source": [
    "# 뉴스데이터 불러오기 & 청킹\n",
    "text_splitter = CharacterTextSplitter(\n",
    "    chunk_size = 400,\n",
    "    chunk_overlap = 80,\n",
    "    separator = \".\"\n",
    ")\n",
    "\n",
    "docs = []\n",
    "dfs=[]\n",
    "\n",
    "for i in tqdm(range(48)):\n",
    "    pkl_path = f\"../public_crawling_base_data/backup_files/article_contents_backup_df_{i}.pkl\"\n",
    "    df = pd.read_pickle(pkl_path)\n",
    "\n",
    "    df['topic_id'] = i\n",
    "            \n",
    "    dfs.append(df[['title','content','topic_id']])\n",
    "\n",
    "df = pd.concat(dfs, ignore_index=True)\n",
    "df = df.drop_duplicates(subset=['content'], keep='first').reset_index(drop=True)\n",
    "print(len(df))\n",
    "\n",
    "df[\"__doc_text__\"] = (df.get(\"title\", \"\") + \"\\n\\n\" + df.get(\"content\", \"\") + \"\\n\\n\").str.strip()\n",
    "\n",
    "for i, row in df.iterrows():\n",
    "    text = row[\"__doc_text__\"]\n",
    "    \n",
    "    if not text:\n",
    "        continue\n",
    "\n",
    "    chunks = text_splitter.split_text(text)\n",
    "    \n",
    "    meta = {\n",
    "        \"doc_type\": \"news_articles\",\n",
    "        \"topic_id\": None if pd.isna(df['topic_id'][i]) else int(df['topic_id'][i])\n",
    "    }\n",
    "    docs.extend([Document(page_content=chunk, metadata=meta) for chunk in chunks])\n",
    "  \n",
    "print(f\"총 문서 개수: {len(docs)}\")"
   ]
  },
  {
   "cell_type": "code",
   "execution_count": 6,
   "id": "612e83c1-0010-4cea-984b-970b3f1c0963",
   "metadata": {
    "collapsed": true,
    "jupyter": {
     "outputs_hidden": true
    },
    "scrolled": true
   },
   "outputs": [
    {
     "data": {
      "application/vnd.jupyter.widget-view+json": {
       "model_id": "59c65425e2674c4dbe53cbe122821d8a",
       "version_major": 2,
       "version_minor": 0
      },
      "text/plain": [
       "Batches:   0%|          | 0/1303 [00:00<?, ?it/s]"
      ]
     },
     "metadata": {},
     "output_type": "display_data"
    },
    {
     "name": "stderr",
     "output_type": "stream",
     "text": [
      "/opt/conda/lib/python3.10/site-packages/torch/nn/modules/module.py:1750: FutureWarning: `encoder_attention_mask` is deprecated and will be removed in version 4.55.0 for `XLMRobertaSdpaSelfAttention.forward`.\n",
      "  return forward_call(*args, **kwargs)\n"
     ]
    },
    {
     "data": {
      "application/vnd.jupyter.widget-view+json": {
       "model_id": "a0540d57e1524252bcd561a291237605",
       "version_major": 2,
       "version_minor": 0
      },
      "text/plain": [
       "Batches:   0%|          | 0/1303 [00:00<?, ?it/s]"
      ]
     },
     "metadata": {},
     "output_type": "display_data"
    },
    {
     "data": {
      "application/vnd.jupyter.widget-view+json": {
       "model_id": "a668d0e411834b1f93a53b6c0b1c9967",
       "version_major": 2,
       "version_minor": 0
      },
      "text/plain": [
       "Batches:   0%|          | 0/1303 [00:00<?, ?it/s]"
      ]
     },
     "metadata": {},
     "output_type": "display_data"
    },
    {
     "data": {
      "application/vnd.jupyter.widget-view+json": {
       "model_id": "e3d2a562ea3d42c0852d2e1023dad262",
       "version_major": 2,
       "version_minor": 0
      },
      "text/plain": [
       "Batches:   0%|          | 0/1303 [00:00<?, ?it/s]"
      ]
     },
     "metadata": {},
     "output_type": "display_data"
    },
    {
     "data": {
      "application/vnd.jupyter.widget-view+json": {
       "model_id": "64f962a1ccbd4e9c943fd53a74d51398",
       "version_major": 2,
       "version_minor": 0
      },
      "text/plain": [
       "Batches:   0%|          | 0/469 [00:00<?, ?it/s]"
      ]
     },
     "metadata": {},
     "output_type": "display_data"
    }
   ],
   "source": [
    "# 뉴스 데이터 from_documents로 업서트\n",
    "Chroma.from_documents(\n",
    "    documents=docs,\n",
    "    embedding=embedding,\n",
    "    collection_name=\"news_articles\",\n",
    "    client=client,\n",
    "    collection_metadata={\"hnsw:space\": \"cosine\"}\n",
    ")"
   ]
  },
  {
   "cell_type": "code",
   "execution_count": 24,
   "id": "28a25d5b-5f33-4d97-a63d-93890bcdeca7",
   "metadata": {
    "collapsed": true,
    "jupyter": {
     "outputs_hidden": true
    }
   },
   "outputs": [
    {
     "name": "stdout",
     "output_type": "stream",
     "text": [
      "재무제표 문서(행 단위) 개수: 809970\n"
     ]
    }
   ],
   "source": [
    "# 재무제표 데이터 불러오기\n",
    "def normalize_company_from_filename(path: str) -> str:\n",
    "    name = os.path.splitext(os.path.basename(path))[0]\n",
    "    return name.split(\"_\")[1]\n",
    "\n",
    "def build_docs_from_fs_csv(csv_path: str) -> list[Document]:\n",
    "    df = pd.read_csv(csv_path)\n",
    "    df = df.fillna(\"\") # 결측치\n",
    "\n",
    "    # 첫 컬럼이 지표명/ 예: 'IFRS(개별)'\n",
    "    metric_col = df.columns[0]\n",
    "    value_cols = df.columns[1:]  # 기간 컬럼들/ 예: '2022/12','2023/12',...\n",
    "\n",
    "    # long 형태로 변환\n",
    "    long_df = df.melt(id_vars=[metric_col], var_name=\"period\", value_name=\"value\")\n",
    "\n",
    "    # 기업 이름 받아오기\n",
    "    company = normalize_company_from_filename(csv_path)\n",
    "    \n",
    "    docs = []\n",
    "\n",
    "    for _, r in long_df.iterrows():\n",
    "        metric = str(r[metric_col]).strip()\n",
    "        period = str(r[\"period\"]).strip()\n",
    "        value  = str(r[\"value\"]).strip()\n",
    "\n",
    "        # 문장형으로 변환(검색 친화)\n",
    "        text = f\"{company} {period} {metric}: {value}\"\n",
    "\n",
    "        meta = {\n",
    "            \"doc_type\": \"financials\",\n",
    "            \"company\": company,\n",
    "            \"source_file\": csv_path,\n",
    "            \"period\": period,\n",
    "            \"metric\": metric,\n",
    "        }\n",
    "\n",
    "        docs.append((Document(page_content=text, metadata=meta)))\n",
    "\n",
    "    return docs\n",
    "\n",
    "# 재무제표 파일들 경로\n",
    "csv_dir = \"./stocks_training_data\"\n",
    "all_docs = []\n",
    "for csv_path in glob.glob(os.path.join(csv_dir, \"*.csv\")):\n",
    "    items = build_docs_from_fs_csv(csv_path)\n",
    "    if not items:\n",
    "        continue\n",
    "    all_docs.extend(items)\n",
    "\n",
    "\"\"\"\n",
    "변환 결과 예시:\n",
    "삼성전자 2022/12 영업수익: 0.0\n",
    "삼성전자 2023/12 영업수익: 0.0\n",
    "삼성전자 2024/12 영업수익: 0.0\n",
    "삼성전자 2025/03 영업수익: 0.0\n",
    "\n",
    "삼성전자 2022/12 영업이익: 100\n",
    "삼성전자 2023/12 영업이익: 120\n",
    "삼성전자 2024/12 영업이익: 150\n",
    "삼성전자 2025/03 영업이익: 130\n",
    "\"\"\"\n",
    "\n",
    "print(f\"재무제표 문서(행 단위) 개수: {len(all_docs)}\")"
   ]
  },
  {
   "cell_type": "code",
   "execution_count": 34,
   "id": "9633dcbf-fa9e-4475-8f23-add20cc8468d",
   "metadata": {
    "collapsed": true,
    "jupyter": {
     "outputs_hidden": true
    },
    "scrolled": true
   },
   "outputs": [
    {
     "data": {
      "application/vnd.jupyter.widget-view+json": {
       "model_id": "bb3face53b2e428e8e241dead4e6d8c5",
       "version_major": 2,
       "version_minor": 0
      },
      "text/plain": [
       "Batches:   0%|          | 0/1303 [00:00<?, ?it/s]"
      ]
     },
     "metadata": {},
     "output_type": "display_data"
    },
    {
     "name": "stderr",
     "output_type": "stream",
     "text": [
      "/opt/conda/lib/python3.10/site-packages/torch/nn/modules/module.py:1750: FutureWarning: `encoder_attention_mask` is deprecated and will be removed in version 4.55.0 for `XLMRobertaSdpaSelfAttention.forward`.\n",
      "  return forward_call(*args, **kwargs)\n"
     ]
    },
    {
     "data": {
      "application/vnd.jupyter.widget-view+json": {
       "model_id": "fb8ab43f0c7c4240a74c1debc1a18c38",
       "version_major": 2,
       "version_minor": 0
      },
      "text/plain": [
       "Batches:   0%|          | 0/1303 [00:00<?, ?it/s]"
      ]
     },
     "metadata": {},
     "output_type": "display_data"
    },
    {
     "data": {
      "application/vnd.jupyter.widget-view+json": {
       "model_id": "346a7d75061e49618b580851ed24ba45",
       "version_major": 2,
       "version_minor": 0
      },
      "text/plain": [
       "Batches:   0%|          | 0/1303 [00:00<?, ?it/s]"
      ]
     },
     "metadata": {},
     "output_type": "display_data"
    },
    {
     "data": {
      "application/vnd.jupyter.widget-view+json": {
       "model_id": "23bf93f043c04fb9ba5aca64c70a3548",
       "version_major": 2,
       "version_minor": 0
      },
      "text/plain": [
       "Batches:   0%|          | 0/1303 [00:00<?, ?it/s]"
      ]
     },
     "metadata": {},
     "output_type": "display_data"
    },
    {
     "data": {
      "application/vnd.jupyter.widget-view+json": {
       "model_id": "5f28841cb47f47338723fd25ca95f67e",
       "version_major": 2,
       "version_minor": 0
      },
      "text/plain": [
       "Batches:   0%|          | 0/1303 [00:00<?, ?it/s]"
      ]
     },
     "metadata": {},
     "output_type": "display_data"
    },
    {
     "data": {
      "application/vnd.jupyter.widget-view+json": {
       "model_id": "e8aa8e6f4bde4e41b10461ec2e63495e",
       "version_major": 2,
       "version_minor": 0
      },
      "text/plain": [
       "Batches:   0%|          | 0/1303 [00:00<?, ?it/s]"
      ]
     },
     "metadata": {},
     "output_type": "display_data"
    },
    {
     "data": {
      "application/vnd.jupyter.widget-view+json": {
       "model_id": "d88add7694464d79914323cd87801fa2",
       "version_major": 2,
       "version_minor": 0
      },
      "text/plain": [
       "Batches:   0%|          | 0/1303 [00:00<?, ?it/s]"
      ]
     },
     "metadata": {},
     "output_type": "display_data"
    },
    {
     "data": {
      "application/vnd.jupyter.widget-view+json": {
       "model_id": "8101a1b67b2d417888ebe0dd5b5d0adc",
       "version_major": 2,
       "version_minor": 0
      },
      "text/plain": [
       "Batches:   0%|          | 0/1303 [00:00<?, ?it/s]"
      ]
     },
     "metadata": {},
     "output_type": "display_data"
    },
    {
     "data": {
      "application/vnd.jupyter.widget-view+json": {
       "model_id": "c4ce12baea244638ac13fb35d7894fcb",
       "version_major": 2,
       "version_minor": 0
      },
      "text/plain": [
       "Batches:   0%|          | 0/1303 [00:00<?, ?it/s]"
      ]
     },
     "metadata": {},
     "output_type": "display_data"
    },
    {
     "data": {
      "application/vnd.jupyter.widget-view+json": {
       "model_id": "b63c54b8cf94470faed2ee6a2d8b4b9f",
       "version_major": 2,
       "version_minor": 0
      },
      "text/plain": [
       "Batches:   0%|          | 0/1303 [00:00<?, ?it/s]"
      ]
     },
     "metadata": {},
     "output_type": "display_data"
    },
    {
     "data": {
      "application/vnd.jupyter.widget-view+json": {
       "model_id": "f1ce29c7eb5a42beb91c36ee9edbf38b",
       "version_major": 2,
       "version_minor": 0
      },
      "text/plain": [
       "Batches:   0%|          | 0/1303 [00:00<?, ?it/s]"
      ]
     },
     "metadata": {},
     "output_type": "display_data"
    },
    {
     "data": {
      "application/vnd.jupyter.widget-view+json": {
       "model_id": "85f52ff6702f4b77a73a680fefd9e49c",
       "version_major": 2,
       "version_minor": 0
      },
      "text/plain": [
       "Batches:   0%|          | 0/1303 [00:00<?, ?it/s]"
      ]
     },
     "metadata": {},
     "output_type": "display_data"
    },
    {
     "data": {
      "application/vnd.jupyter.widget-view+json": {
       "model_id": "cc56fb62077144faa0c631e0add05ebe",
       "version_major": 2,
       "version_minor": 0
      },
      "text/plain": [
       "Batches:   0%|          | 0/1303 [00:00<?, ?it/s]"
      ]
     },
     "metadata": {},
     "output_type": "display_data"
    },
    {
     "data": {
      "application/vnd.jupyter.widget-view+json": {
       "model_id": "28f6ee89261844d098a8b38d6af1b6e9",
       "version_major": 2,
       "version_minor": 0
      },
      "text/plain": [
       "Batches:   0%|          | 0/1303 [00:00<?, ?it/s]"
      ]
     },
     "metadata": {},
     "output_type": "display_data"
    },
    {
     "data": {
      "application/vnd.jupyter.widget-view+json": {
       "model_id": "bac9de75d55c48f8a6b6144d147773e3",
       "version_major": 2,
       "version_minor": 0
      },
      "text/plain": [
       "Batches:   0%|          | 0/1303 [00:00<?, ?it/s]"
      ]
     },
     "metadata": {},
     "output_type": "display_data"
    },
    {
     "data": {
      "application/vnd.jupyter.widget-view+json": {
       "model_id": "cf369537342a40dbbf56da6f6524ed54",
       "version_major": 2,
       "version_minor": 0
      },
      "text/plain": [
       "Batches:   0%|          | 0/1303 [00:00<?, ?it/s]"
      ]
     },
     "metadata": {},
     "output_type": "display_data"
    },
    {
     "data": {
      "application/vnd.jupyter.widget-view+json": {
       "model_id": "ce33dfc71f5a4fefbe789f794d43e011",
       "version_major": 2,
       "version_minor": 0
      },
      "text/plain": [
       "Batches:   0%|          | 0/1303 [00:00<?, ?it/s]"
      ]
     },
     "metadata": {},
     "output_type": "display_data"
    },
    {
     "data": {
      "application/vnd.jupyter.widget-view+json": {
       "model_id": "3b82f1d1c8f046b9bb342b0106c1dc45",
       "version_major": 2,
       "version_minor": 0
      },
      "text/plain": [
       "Batches:   0%|          | 0/1303 [00:00<?, ?it/s]"
      ]
     },
     "metadata": {},
     "output_type": "display_data"
    },
    {
     "data": {
      "application/vnd.jupyter.widget-view+json": {
       "model_id": "260672045178460da520f84c42acbe6b",
       "version_major": 2,
       "version_minor": 0
      },
      "text/plain": [
       "Batches:   0%|          | 0/1303 [00:00<?, ?it/s]"
      ]
     },
     "metadata": {},
     "output_type": "display_data"
    },
    {
     "data": {
      "application/vnd.jupyter.widget-view+json": {
       "model_id": "d94c66f5dd454f32abe5be95cd22d55f",
       "version_major": 2,
       "version_minor": 0
      },
      "text/plain": [
       "Batches:   0%|          | 0/573 [00:00<?, ?it/s]"
      ]
     },
     "metadata": {},
     "output_type": "display_data"
    }
   ],
   "source": [
    "# 재무제표 데이터 financials collection 업서트\n",
    "Chroma.from_documents(\n",
    "    documents=all_docs,\n",
    "    embedding=embedding,\n",
    "    collection_name=\"financials\",\n",
    "    client=client,\n",
    "    collection_metadata={\"hnsw:space\": \"cosine\"}\n",
    ")"
   ]
  },
  {
   "cell_type": "code",
   "execution_count": 5,
   "id": "c331cf5d-7b1b-4a46-a3d4-bca5570f3567",
   "metadata": {
    "collapsed": true,
    "jupyter": {
     "outputs_hidden": true
    },
    "scrolled": true
   },
   "outputs": [
    {
     "name": "stdout",
     "output_type": "stream",
     "text": [
      "만든 문서 수: 2761\n"
     ]
    }
   ],
   "source": [
    "# 기업 업종명 데이터 불러오기\n",
    "topic_csv_path = './public_crawling_base_data/company_keyword.csv'\n",
    "\n",
    "topic_df = pd.read_csv(topic_csv_path)\n",
    "\n",
    "topic_df = topic_df.fillna(\"\")\n",
    "\n",
    "# 언더바 기준으로 회사명과 토픽 나누는 함수\n",
    "def split_keyword(s: str):\n",
    "    s = str(s).strip()\n",
    "    if \"_\" in s:\n",
    "        company, rest = s.split(\"_\", 1)\n",
    "    else:\n",
    "        company, rest = s, \"\"\n",
    "    return company.strip(), rest.strip()\n",
    "\n",
    "docs_topic = []\n",
    "\n",
    "for i, raw in enumerate(topic_df[\"stock_keywords\"]):\n",
    "    company, keyword = split_keyword(raw)\n",
    "\n",
    "    # page_content: 검색 친화 문장\n",
    "    text_topic = f\"{company} 키워드: {keyword}\"\n",
    "\n",
    "    meta = {\n",
    "        \"doc_type\": \"topics\",\n",
    "        \"company\": company,\n",
    "        \"keyword\": keyword\n",
    "    }\n",
    "\n",
    "    docs_topic.append(Document(page_content=text_topic, metadata=meta))\n",
    "\n",
    "\n",
    "print(f\"만든 문서 수: {len(docs_topic)}\")"
   ]
  },
  {
   "cell_type": "code",
   "execution_count": 7,
   "id": "327dead5-7466-486d-bbd4-83916929904e",
   "metadata": {
    "collapsed": true,
    "jupyter": {
     "outputs_hidden": true
    }
   },
   "outputs": [
    {
     "data": {
      "application/vnd.jupyter.widget-view+json": {
       "model_id": "c16c14cfaad04ae8a8696cb83140faec",
       "version_major": 2,
       "version_minor": 0
      },
      "text/plain": [
       "Batches:   0%|          | 0/87 [00:00<?, ?it/s]"
      ]
     },
     "metadata": {},
     "output_type": "display_data"
    },
    {
     "name": "stderr",
     "output_type": "stream",
     "text": [
      "/opt/conda/lib/python3.10/site-packages/torch/nn/modules/module.py:1750: FutureWarning: `encoder_attention_mask` is deprecated and will be removed in version 4.55.0 for `XLMRobertaSdpaSelfAttention.forward`.\n",
      "  return forward_call(*args, **kwargs)\n"
     ]
    },
    {
     "data": {
      "text/plain": [
       "<langchain_chroma.vectorstores.Chroma at 0x7facb25411b0>"
      ]
     },
     "execution_count": 7,
     "metadata": {},
     "output_type": "execute_result"
    }
   ],
   "source": [
    "# 기업 업종명 데이터를 topics collection로 업서트\n",
    "Chroma.from_documents(\n",
    "    documents=docs_topic,\n",
    "    embedding=embedding,\n",
    "    collection_name=\"topics\",\n",
    "    client=client,\n",
    "    collection_metadata={\"hnsw:space\": \"cosine\"}\n",
    ")"
   ]
  }
 ],
 "metadata": {
  "kernelspec": {
   "display_name": "Python 3 (ipykernel)",
   "language": "python",
   "name": "python3"
  },
  "language_info": {
   "codemirror_mode": {
    "name": "ipython",
    "version": 3
   },
   "file_extension": ".py",
   "mimetype": "text/x-python",
   "name": "python",
   "nbconvert_exporter": "python",
   "pygments_lexer": "ipython3",
   "version": "3.10.8"
  }
 },
 "nbformat": 4,
 "nbformat_minor": 5
}
